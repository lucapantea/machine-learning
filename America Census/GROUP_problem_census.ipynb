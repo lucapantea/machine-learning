{
 "cells": [
  {
   "cell_type": "markdown",
   "metadata": {},
   "source": [
    "# American Census"
   ]
  },
  {
   "cell_type": "code",
   "execution_count": 37,
   "metadata": {},
   "outputs": [],
   "source": [
    "import numpy as np\n",
    "import pandas as pd\n",
    "\n",
    "from sklearn.naive_bayes import GaussianNB\n",
    "from sklearn.dummy import DummyClassifier\n",
    "from sklearn.tree import DecisionTreeClassifier\n",
    "from sklearn.svm import SVC\n",
    "from sklearn.neighbors import KNeighborsClassifier\n",
    "from sklearn.linear_model import LogisticRegression\n",
    "\n",
    "import matplotlib.pyplot as plt"
   ]
  },
  {
   "cell_type": "markdown",
   "metadata": {},
   "source": [
    "## Global config"
   ]
  },
  {
   "cell_type": "code",
   "execution_count": 38,
   "metadata": {},
   "outputs": [],
   "source": [
    "# Data config\n",
    "path_to_csv = \"adult.csv\""
   ]
  },
  {
   "cell_type": "markdown",
   "metadata": {},
   "source": [
    "## Load data"
   ]
  },
  {
   "cell_type": "code",
   "execution_count": 39,
   "metadata": {},
   "outputs": [
    {
     "name": "stdout",
     "output_type": "stream",
     "text": [
      "(16280, 11)\n",
      "       age  education-num  hours-per-week     workclass      education  \\\n",
      "0       30            9.0              40       Private        HS-grad   \n",
      "1       77           10.0               6           NaN   Some-college   \n",
      "2       44           12.0              50       Private     Assoc-acdm   \n",
      "3       53           10.0              50       Private   Some-college   \n",
      "4       41           10.0              40   Federal-gov   Some-college   \n",
      "...    ...            ...             ...           ...            ...   \n",
      "16275   31           11.0              30       Private      Assoc-voc   \n",
      "16276   37           13.0              40     State-gov      Bachelors   \n",
      "16277   45           14.0              40     State-gov        Masters   \n",
      "16278   32            9.0              40       Private        HS-grad   \n",
      "16279   58            7.0              50       Private           11th   \n",
      "\n",
      "            marital-status          occupation    relationship  \\\n",
      "0       Married-civ-spouse               Sales       Own-child   \n",
      "1       Married-civ-spouse                 NaN         Husband   \n",
      "2            Never-married      Prof-specialty       Unmarried   \n",
      "3            Never-married        Adm-clerical   Not-in-family   \n",
      "4       Married-civ-spouse    Transport-moving            Wife   \n",
      "...                    ...                 ...             ...   \n",
      "16275   Married-civ-spouse    Transport-moving         Husband   \n",
      "16276        Never-married      Prof-specialty   Not-in-family   \n",
      "16277             Divorced     Exec-managerial       Unmarried   \n",
      "16278        Never-married   Machine-op-inspct   Not-in-family   \n",
      "16279   Married-civ-spouse    Transport-moving         Husband   \n",
      "\n",
      "                      race      sex  native-country  \n",
      "0       Asian-Pac-Islander   Female   United-States  \n",
      "1                    White     Male   United-States  \n",
      "2                    Black   Female   United-States  \n",
      "3                    White   Female   United-States  \n",
      "4                    White   Female   United-States  \n",
      "...                    ...      ...             ...  \n",
      "16275                White     Male   United-States  \n",
      "16276                White   Female   United-States  \n",
      "16277                White   Female   United-States  \n",
      "16278                White     Male   United-States  \n",
      "16279                White     Male   United-States  \n",
      "\n",
      "[16280 rows x 11 columns]\n"
     ]
    }
   ],
   "source": [
    "pandas_X_train = pd.read_csv(\"X_train.csv\")\n",
    "pandas_y_train = pd.read_csv(\"y_train.csv\")\n",
    "\n",
    "pandas_X_test = pd.read_csv(\"X_test.csv\")\n",
    "print(pandas_X_train.shape)\n",
    "print(pandas_X_train)"
   ]
  },
  {
   "cell_type": "markdown",
   "metadata": {},
   "source": [
    "## Helpers"
   ]
  },
  {
   "cell_type": "code",
   "execution_count": 40,
   "metadata": {},
   "outputs": [],
   "source": [
    "# TODO\n",
    "X_train = pandas_X_train.to_numpy(copy=True)\n",
    "y_train = pandas_y_train.to_numpy(copy=True)\n",
    "\n",
    "X_test = pandas_X_test.to_numpy(copy=True)"
   ]
  },
  {
   "cell_type": "markdown",
   "metadata": {},
   "source": [
    "## Data exploration"
   ]
  },
  {
   "cell_type": "markdown",
   "metadata": {},
   "source": [
    "### Question 1"
   ]
  },
  {
   "cell_type": "code",
   "execution_count": 41,
   "metadata": {},
   "outputs": [
    {
     "name": "stdout",
     "output_type": "stream",
     "text": [
      "[[    0     1]\n",
      " [12360  3920]]\n",
      "From above we can derive that there are an unequal number of samples belonging to each class.\n",
      "Class distribution for salary <50.000$:  0.7592137592137592\n",
      "Class distribution for salary >50.000$:  0.24078624078624078\n"
     ]
    }
   ],
   "source": [
    "unique_elements, counts_elements = np.unique(y_train, return_counts=True)\n",
    "print(np.asarray((unique_elements, counts_elements)))\n",
    "print(\"From above we can derive that there are an unequal number of samples belonging to each class.\")\n",
    "print(\"Class distribution for salary <50.000$: \", counts_elements[0]/counts_elements.sum())\n",
    "print(\"Class distribution for salary >50.000$: \", counts_elements[1]/counts_elements.sum())"
   ]
  },
  {
   "cell_type": "markdown",
   "metadata": {},
   "source": [
    "### Question 2"
   ]
  },
  {
   "cell_type": "code",
   "execution_count": 43,
   "metadata": {},
   "outputs": [
    {
     "name": "stdout",
     "output_type": "stream",
     "text": [
      "Number of men:  10883\n",
      "Number of women:  5397\n",
      "\n",
      "Number of women with salary under $50k:  4797\n",
      "Number of women with salary over $50k:  600\n",
      "Number of men with salary under $50k:  7563\n",
      "Number of men with salary over $50k:  3320\n",
      "\n",
      "For over $50k salary a year, the pay gap between men and women seems rather big ( 2720 ).\n",
      "Based on training data: Men >$50k:  30.51 %, Women >$50k:  11.12 %.\n",
      "Scaled to account for the difference between the number of men and women: Men >$50k:  15.13 %, Women >$50k:  11.12 %.\n",
      "This means that the difference is quite insignificant, and thus this parameter isn't necessarily curcial.\n",
      "\n",
      "Distribution of races:\n",
      "[(' Amer-Indian-Eskimo', 146), (' Asian-Pac-Islander', 506), (' Black', 1537), (' Other', 138), (' White', 13953)]\n",
      "Since there is a clearly unbalanced dataset of races, the trained model will be highly biased towards the white race! Thus, race is also not quite a good paramter. For example, the white race is found accross 85.71 % of the training data!\n"
     ]
    }
   ],
   "source": [
    "exteded_data = np.c_[X_train, y_train]\n",
    "\n",
    "num_men = np.where((exteded_data[:, 9] == \" Male\"))[0].size\n",
    "num_female = np.where((exteded_data[:, 9] == \" Female\"))[0].size\n",
    "\n",
    "females_under_50 = np.where((exteded_data[:, 9] == \" Female\") & (exteded_data[:, 11] == 0))[0].size\n",
    "females_over_50 = np.where((exteded_data[:, 9] == \" Female\") & (exteded_data[:, 11] == 1))[0].size\n",
    "\n",
    "men_under_50 = np.where((exteded_data[:, 9] == \" Male\") & (exteded_data[:, 11] == 0))[0].size\n",
    "men_over_50 = np.where((exteded_data[:, 9] == \" Male\") & (exteded_data[:, 11] == 1))[0].size\n",
    "\n",
    "diff_over = men_over_50 - females_over_50\n",
    "print(\"Number of men: \", num_men)\n",
    "print(\"Number of women: \", num_female)\n",
    "print()\n",
    "print(\"Number of women with salary under $50k: \", females_under_50)\n",
    "print(\"Number of women with salary over $50k: \", females_over_50)\n",
    "print(\"Number of men with salary under $50k: \", men_under_50)\n",
    "print(\"Number of men with salary over $50k: \", men_over_50)\n",
    "print()\n",
    "print(\"For over $50k salary a year, the pay gap between men and women seems rather big (\",diff_over,\").\")\n",
    "print(\"Based on training data: Men >$50k: \", round((men_over_50/num_men) * 100, 2) , \"%, Women >$50k: \", round(females_over_50/num_female * 100, 2), \"%.\")\n",
    "print(\"Scaled to account for the difference between the number of men and women: Men >$50k: \", round((men_over_50/num_men)/(num_men/num_female) * 100, 2) , \"%, Women >$50k: \", round(females_over_50/num_female * 100, 2), \"%.\")\n",
    "print(\"This means that the difference is quite insignificant, and thus this parameter isn't necessarily curcial.\")\n",
    "\n",
    "print()\n",
    "print(\"Distribution of races:\")\n",
    "unique_races, counts_races = np.unique(X_train[:, 8], return_counts=True)\n",
    "zipped = zip(unique_races, counts_races)\n",
    "print(list(zipped))\n",
    "print(\"Since there is a clearly unbalanced dataset of races, the trained model will be highly biased towards the white race! Thus, race is also not quite a good paramter. For example, the white race is found accross\",\n",
    "     round(counts_races[4] / X_train.shape[0] * 100, 2), \"% of the training data!\")"
   ]
  },
  {
   "cell_type": "markdown",
   "metadata": {},
   "source": [
    "## Data preparations"
   ]
  },
  {
   "cell_type": "markdown",
   "metadata": {},
   "source": [
    "### Question 1"
   ]
  },
  {
   "cell_type": "code",
   "execution_count": 108,
   "metadata": {},
   "outputs": [],
   "source": [
    "# TODO"
   ]
  },
  {
   "cell_type": "markdown",
   "metadata": {},
   "source": [
    "### Question 2"
   ]
  },
  {
   "cell_type": "code",
   "execution_count": 8,
   "metadata": {},
   "outputs": [],
   "source": [
    "# TODO"
   ]
  },
  {
   "cell_type": "markdown",
   "metadata": {},
   "source": [
    "### Question 3"
   ]
  },
  {
   "cell_type": "code",
   "execution_count": 9,
   "metadata": {},
   "outputs": [],
   "source": [
    "# TODO"
   ]
  },
  {
   "cell_type": "markdown",
   "metadata": {},
   "source": [
    "## Experiments"
   ]
  },
  {
   "cell_type": "markdown",
   "metadata": {},
   "source": [
    "### Question 1"
   ]
  },
  {
   "cell_type": "code",
   "execution_count": 10,
   "metadata": {},
   "outputs": [],
   "source": [
    "# TODO"
   ]
  },
  {
   "cell_type": "markdown",
   "metadata": {},
   "source": [
    "### Question 2"
   ]
  },
  {
   "cell_type": "code",
   "execution_count": 11,
   "metadata": {},
   "outputs": [],
   "source": [
    "# TODO"
   ]
  },
  {
   "cell_type": "markdown",
   "metadata": {},
   "source": [
    "### Question 3"
   ]
  },
  {
   "cell_type": "code",
   "execution_count": 12,
   "metadata": {},
   "outputs": [],
   "source": [
    "# TODO"
   ]
  },
  {
   "cell_type": "markdown",
   "metadata": {},
   "source": [
    "### Question 4"
   ]
  },
  {
   "cell_type": "code",
   "execution_count": 13,
   "metadata": {},
   "outputs": [],
   "source": [
    "#TODO"
   ]
  },
  {
   "cell_type": "markdown",
   "metadata": {},
   "source": [
    "### Question 5"
   ]
  },
  {
   "cell_type": "code",
   "execution_count": 14,
   "metadata": {},
   "outputs": [],
   "source": [
    "#TODO\n",
    "prediction = np.array([-1] * len(X_test)) #TODO replace this with you own prediction\n",
    "pd.DataFrame(prediction).to_csv(\"GROUP_classes_problem_census.txt\", index=False, header=False)"
   ]
  }
 ],
 "metadata": {
  "kernelspec": {
   "display_name": "Python 3",
   "language": "python",
   "name": "python3"
  },
  "language_info": {
   "codemirror_mode": {
    "name": "ipython",
    "version": 3
   },
   "file_extension": ".py",
   "mimetype": "text/x-python",
   "name": "python",
   "nbconvert_exporter": "python",
   "pygments_lexer": "ipython3",
   "version": "3.7.6"
  }
 },
 "nbformat": 4,
 "nbformat_minor": 4
}
