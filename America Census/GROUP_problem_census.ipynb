{
 "cells": [
  {
   "cell_type": "markdown",
   "metadata": {},
   "source": [
    "# American Census"
   ]
  },
  {
   "cell_type": "code",
   "execution_count": 44,
   "metadata": {},
   "outputs": [],
   "source": [
    "import numpy as np\n",
    "import pandas as pd\n",
    "import copy as copy\n",
    "import seaborn as sns\n",
    "\n",
    "from sklearn.naive_bayes import GaussianNB\n",
    "from sklearn.dummy import DummyClassifier\n",
    "from sklearn.tree import DecisionTreeClassifier\n",
    "from sklearn.svm import SVC\n",
    "from sklearn.neighbors import KNeighborsClassifier\n",
    "from sklearn.linear_model import LogisticRegression\n",
    "from sklearn import preprocessing\n",
    "from sklearn.preprocessing import OneHotEncoder, MinMaxScaler, StandardScaler\n",
    "\n",
    "from sklearn.metrics import make_scorer\n",
    "from sklearn.metrics import f1_score, roc_auc_score, accuracy_score\n",
    "from sklearn.model_selection import ShuffleSplit, GridSearchCV, cross_val_score, GroupKFold, StratifiedKFold, KFold,cross_validate, train_test_split\n",
    "\n",
    "import matplotlib.pyplot as plt"
   ]
  },
  {
   "cell_type": "markdown",
   "metadata": {},
   "source": [
    "## Global config"
   ]
  },
  {
   "cell_type": "code",
   "execution_count": 45,
   "metadata": {},
   "outputs": [],
   "source": [
    "# Data config\n",
    "path_to_csv = \"adult.csv\""
   ]
  },
  {
   "cell_type": "markdown",
   "metadata": {},
   "source": [
    "## Load data"
   ]
  },
  {
   "cell_type": "code",
   "execution_count": 46,
   "metadata": {},
   "outputs": [],
   "source": [
    "pandas_X_train = pd.read_csv(\"X_train.csv\")\n",
    "pandas_y_train = pd.read_csv(\"y_train.csv\")\n",
    "\n",
    "pandas_X_test = pd.read_csv(\"X_test.csv\")"
   ]
  },
  {
   "cell_type": "markdown",
   "metadata": {},
   "source": [
    "## Helpers"
   ]
  },
  {
   "cell_type": "code",
   "execution_count": 47,
   "metadata": {},
   "outputs": [],
   "source": [
    "X_train = pandas_X_train.to_numpy(copy=True)\n",
    "y_train = pandas_y_train.to_numpy(copy=True)\n",
    "\n",
    "X_test = pandas_X_test.to_numpy(copy=True)"
   ]
  },
  {
   "cell_type": "markdown",
   "metadata": {},
   "source": [
    "## Data exploration"
   ]
  },
  {
   "cell_type": "markdown",
   "metadata": {},
   "source": [
    "### Question 1"
   ]
  },
  {
   "cell_type": "code",
   "execution_count": 48,
   "metadata": {},
   "outputs": [
    {
     "name": "stdout",
     "output_type": "stream",
     "text": [
      "[[    0     1]\n",
      " [12360  3920]]\n",
      "From above we can derive that there are an unequal number of samples belonging to each class.\n",
      "Class distribution for salary <50.000$:  75.92 %\n",
      "Class distribution for salary >50.000$:  24.08 %\n"
     ]
    }
   ],
   "source": [
    "unique_elements, counts_elements = np.unique(y_train, return_counts=True)\n",
    "unique_array = np.asarray((unique_elements, counts_elements))\n",
    "print(unique_array)\n",
    "print(\"From above we can derive that there are an unequal number of samples belonging to each class.\")\n",
    "print(\"Class distribution for salary <50.000$: \", np.round(counts_elements[0]/counts_elements.sum()*100, 2),\"%\")\n",
    "print(\"Class distribution for salary >50.000$: \", np.round(counts_elements[1]/counts_elements.sum()*100, 2),\"%\")"
   ]
  },
  {
   "cell_type": "markdown",
   "metadata": {},
   "source": [
    "### Question 2"
   ]
  },
  {
   "cell_type": "code",
   "execution_count": 49,
   "metadata": {},
   "outputs": [
    {
     "name": "stdout",
     "output_type": "stream",
     "text": [
      "Based on training data: Men >$50k:  30.51 %, Women >$50k:  11.12 %.\n",
      "\n",
      "Distribution of races:\n",
      "[(' Amer-Indian-Eskimo', 146), (' Asian-Pac-Islander', 506), (' Black', 1537), (' Other', 138), (' White', 13953)]\n",
      "\n",
      "The trained model will be highly biased towards the white race! Thus, race is also not quite a good paramter. The white race is found accross 85.71 % of the training data!\n"
     ]
    }
   ],
   "source": [
    "exteded_data = np.c_[X_train, y_train]\n",
    "\n",
    "num_men = np.where((exteded_data[:, 9] == \" Male\"))[0].size\n",
    "num_female = np.where((exteded_data[:, 9] == \" Female\"))[0].size\n",
    "females_under_50 = np.where((exteded_data[:, 9] == \" Female\") & (exteded_data[:, 11] == 0))[0].size\n",
    "females_over_50 = np.where((exteded_data[:, 9] == \" Female\") & (exteded_data[:, 11] == 1))[0].size\n",
    "men_under_50 = np.where((exteded_data[:, 9] == \" Male\") & (exteded_data[:, 11] == 0))[0].size\n",
    "men_over_50 = np.where((exteded_data[:, 9] == \" Male\") & (exteded_data[:, 11] == 1))[0].size\n",
    "\n",
    "print(\"Based on training data: Men >$50k: \", round((men_over_50/num_men) * 100, 2) , \"%, Women >$50k: \", round(females_over_50/num_female * 100, 2), \"%.\")\n",
    "print()\n",
    "print(\"Distribution of races:\")\n",
    "unique_races, counts_races = np.unique(X_train[:, 8], return_counts=True)\n",
    "zipped = zip(unique_races, counts_races)\n",
    "print(list(zipped))\n",
    "print()\n",
    "print(\"The trained model will be highly biased towards the white race! Thus, race is also not quite a good paramter. The white race is found accross\",\n",
    "     round(counts_races[4] / X_train.shape[0] * 100, 2), \"% of the training data!\")\n",
    "\n",
    "# Removal of feature is done below (Data Preparation - Q1)"
   ]
  },
  {
   "cell_type": "markdown",
   "metadata": {},
   "source": [
    "## Data preparations"
   ]
  },
  {
   "cell_type": "markdown",
   "metadata": {},
   "source": [
    "### Question 1"
   ]
  },
  {
   "cell_type": "markdown",
   "metadata": {},
   "source": [
    "###### Training set"
   ]
  },
  {
   "cell_type": "code",
   "execution_count": 50,
   "metadata": {},
   "outputs": [
    {
     "name": "stdout",
     "output_type": "stream",
     "text": [
      "1576 rows with missing values -> Can't remove 1576 rows since it will affect the training set\n"
     ]
    }
   ],
   "source": [
    "nan_values = np.where(X_train != X_train)\n",
    "print(np.unique(nan_values).shape[0], \"rows with missing values -> Can't remove 1576 rows since it will affect the training set\") \n",
    "\n",
    "# Make deep copies\n",
    "pandas_X_train_copy = copy.deepcopy(pandas_X_train)\n",
    "\n",
    "# Back-ups\n",
    "X_train_backup = copy.deepcopy(X_train)\n",
    "pandas_X_train_backup = copy.deepcopy(pandas_X_train)\n",
    "\n",
    "# Replace missing numerical values with the median of the column\n",
    "# Replace missing string values with the most frequent value in the column\n",
    "pandas_X_train_copy.fillna(pandas_X_train_copy.mean(), inplace=True)\n",
    "pandas_X_train_copy.fillna(pandas_X_train_copy.mode(numeric_only=False).iloc[0], inplace=True)\n",
    "\n",
    "pandas_X_train_copy.drop([\"race\", \"sex\"], inplace=True, axis=1) # Remove race & sex from the training dataset\n",
    "X_train = pandas_X_train_copy.to_numpy(copy=True)\n",
    "\n",
    "# Update values of pandas_X_train and X_train\n",
    "pandas_X_train = copy.deepcopy(pandas_X_train_copy)\n",
    "X_train = pandas_X_train_copy.to_numpy(copy=True)"
   ]
  },
  {
   "cell_type": "markdown",
   "metadata": {},
   "source": [
    "###### Test set"
   ]
  },
  {
   "cell_type": "code",
   "execution_count": 51,
   "metadata": {},
   "outputs": [],
   "source": [
    "# Replace values for test set\n",
    "pandas_X_test.fillna(pandas_X_test.mean(), inplace=True)\n",
    "pandas_X_test.fillna(pandas_X_test.mode(numeric_only=False).iloc[0], inplace=True)\n",
    "\n",
    "# Drop race & sex from test set\n",
    "pandas_X_test.drop([\"race\", \"sex\"], inplace=True, axis=1)"
   ]
  },
  {
   "cell_type": "markdown",
   "metadata": {},
   "source": [
    "### Questions 2 and 3"
   ]
  },
  {
   "cell_type": "markdown",
   "metadata": {},
   "source": [
    "###### Training set"
   ]
  },
  {
   "cell_type": "code",
   "execution_count": 52,
   "metadata": {},
   "outputs": [],
   "source": [
    "# Additional preprocessing needs to be done: every non-numerical column has a space before the value <_space_*value*>\n",
    "pandas_X_train.workclass = pandas_X_train.workclass.str.strip()\n",
    "pandas_X_train.education = pandas_X_train.education.str.strip()\n",
    "pandas_X_train[\"marital-status\"] = pandas_X_train[\"marital-status\"].str.strip()\n",
    "pandas_X_train.occupation = pandas_X_train.occupation.str.strip()\n",
    "pandas_X_train.relationship = pandas_X_train.relationship.str.strip()\n",
    "pandas_X_train[\"native-country\"] = pandas_X_train[\"native-country\"].str.strip()"
   ]
  },
  {
   "cell_type": "markdown",
   "metadata": {},
   "source": [
    "###### Test set"
   ]
  },
  {
   "cell_type": "code",
   "execution_count": 53,
   "metadata": {},
   "outputs": [],
   "source": [
    "# The additional preprocessing, done for the test set\n",
    "pandas_X_test.workclass = pandas_X_test.workclass.str.strip()\n",
    "pandas_X_test.education = pandas_X_test.education.str.strip()\n",
    "pandas_X_test[\"marital-status\"] = pandas_X_test[\"marital-status\"].str.strip()\n",
    "pandas_X_test.occupation = pandas_X_test.occupation.str.strip()\n",
    "pandas_X_test.relationship = pandas_X_test.relationship.str.strip()\n",
    "pandas_X_test[\"native-country\"] = pandas_X_test[\"native-country\"].str.strip()"
   ]
  },
  {
   "cell_type": "markdown",
   "metadata": {},
   "source": [
    "###### Training set"
   ]
  },
  {
   "cell_type": "code",
   "execution_count": 54,
   "metadata": {},
   "outputs": [],
   "source": [
    "# Replacing categories:\n",
    "# This process decreases the computational costs and prevents for potential overfitting\n",
    "\n",
    "# Categorically bin the countries in continents\n",
    "pandas_X_train['native-country'].replace(['United-States', 'Canada'], 'North-America', inplace=True)\n",
    "pandas_X_train['native-country'].replace(['Peru', 'Outlying-US(Guam-USVI-etc)', 'Trinadad&Tobago', 'Jamaica', 'Haiti', 'Nicaragua', 'Dominican-Republic', 'Puerto-Rico', 'Columbia', 'Honduras', 'South', 'Cuba', 'Mexico', 'Ecuador', 'El-Salvador', 'Guatemala'], 'South-America', inplace=True)\n",
    "pandas_X_train['native-country'].replace(['Yugoslavia' , 'Ireland', 'Scotland', 'Germany', 'Poland', 'Hungary', 'England','France', 'Greece', 'Italy', 'Portugal'], 'Europe', inplace=True)\n",
    "pandas_X_train['native-country'].replace(['Japan', 'China', 'Taiwan', 'Hong'], 'Asia', inplace=True)\n",
    "pandas_X_train['native-country'].replace(['India', 'Iran', ], 'Middle-East', inplace=True)\n",
    "pandas_X_train['native-country'].replace(['Vietnam', 'Philippines', 'Cambodia',  'Laos', 'Thailand'], 'East-Asia', inplace=True)\n",
    "\n",
    "# Keep only not_married, married and separated\n",
    "pandas_X_train['marital-status'].replace('Never-married', 'Not_married', inplace=True)\n",
    "pandas_X_train['marital-status'].replace('Married-AF-spouse', 'Married', inplace=True)\n",
    "pandas_X_train['marital-status'].replace('Married-civ-spouse', 'Married', inplace=True)\n",
    "pandas_X_train['marital-status'].replace('Married-spouse-absent', 'Married', inplace=True)\n",
    "pandas_X_train['marital-status'].replace('Divorced', 'Separated',inplace=True)\n",
    "\n",
    "# Keep only 'High_school' 'College' 'Academic' 'Masters' 'Bachelors' 'Primary' 'Doctorate' 'Secondary'\n",
    "pandas_X_train['education'].replace('Preschool', 'Primary', inplace=True)\n",
    "pandas_X_train['education'].replace('1st-4th', 'Primary', inplace=True)\n",
    "pandas_X_train['education'].replace('5th-6th', 'Primary', inplace=True)\n",
    "pandas_X_train['education'].replace('7th-8th', 'Primary', inplace=True)\n",
    "pandas_X_train['education'].replace('9th', 'Primary', inplace=True)\n",
    "pandas_X_train['education'].replace('10th', 'Primary', inplace=True)\n",
    "pandas_X_train['education'].replace('11th', 'Secondary', inplace=True)\n",
    "pandas_X_train['education'].replace('12th', 'Secondary', inplace=True)\n",
    "pandas_X_train['education'].replace('HS-grad', 'Secondary', inplace=True)\n",
    "pandas_X_train['education'].replace('Some-college', 'College', inplace=True)\n",
    "pandas_X_train['education'].replace('Assoc-acdm', 'Academic', inplace=True)\n",
    "pandas_X_train['education'].replace('Assoc-voc', 'Academic', inplace=True)\n",
    "pandas_X_train['education'].replace('Prof-school', 'Doctorate', inplace=True)\n",
    "\n",
    "# Never-worked -> only in train\n",
    "pandas_X_train['workclass'].replace('Never-worked', 'Without-pay', inplace=True)\n",
    "\n",
    "X_train = pandas_X_train.to_numpy(copy=True)"
   ]
  },
  {
   "cell_type": "markdown",
   "metadata": {},
   "source": [
    "###### Test set"
   ]
  },
  {
   "cell_type": "code",
   "execution_count": 55,
   "metadata": {},
   "outputs": [],
   "source": [
    "# Replacing categories, for the test set:\n",
    "\n",
    "# Categorically bin the countries in continents\n",
    "pandas_X_test['native-country'].replace(['United-States', 'Canada'], 'North-America', inplace=True)\n",
    "pandas_X_test['native-country'].replace(['Peru', 'Outlying-US(Guam-USVI-etc)', 'Trinadad&Tobago', 'Jamaica', 'Haiti', 'Nicaragua', 'Dominican-Republic', 'Puerto-Rico', 'Columbia', 'Honduras', 'South', 'Cuba', 'Mexico', 'Ecuador', 'El-Salvador', 'Guatemala'], 'South-America', inplace=True)\n",
    "pandas_X_test['native-country'].replace(['Yugoslavia' , 'Ireland', 'Scotland', 'Germany', 'Poland', 'Hungary', 'England','France', 'Greece', 'Italy', 'Portugal', 'Holand-Netherlands'], 'Europe', inplace=True)\n",
    "pandas_X_test['native-country'].replace(['Japan', 'China', 'Taiwan', 'Hong'], 'Asia', inplace=True)\n",
    "pandas_X_test['native-country'].replace(['India', 'Iran', ], 'Middle-East', inplace=True)\n",
    "pandas_X_test['native-country'].replace(['Vietnam', 'Philippines', 'Cambodia',  'Laos', 'Thailand'], 'East-Asia', inplace=True)\n",
    "\n",
    "# Keep only not_married, married and separated\n",
    "pandas_X_test['marital-status'].replace('Never-married', 'Not_married', inplace=True)\n",
    "pandas_X_test['marital-status'].replace('Married-AF-spouse', 'Married', inplace=True)\n",
    "pandas_X_test['marital-status'].replace('Married-civ-spouse', 'Married', inplace=True)\n",
    "pandas_X_test['marital-status'].replace('Married-spouse-absent', 'Married', inplace=True)\n",
    "pandas_X_test['marital-status'].replace('Divorced', 'Separated',inplace=True)\n",
    "\n",
    "# Keep only 'High_school' 'College' 'Academic' 'Masters' 'Bachelors' 'Primary' 'Doctorate' 'Secondary'\n",
    "pandas_X_test['education'].replace('Preschool', 'Primary', inplace=True)\n",
    "pandas_X_test['education'].replace('1st-4th', 'Primary', inplace=True)\n",
    "pandas_X_test['education'].replace('5th-6th', 'Primary', inplace=True)\n",
    "pandas_X_test['education'].replace('7th-8th', 'Primary', inplace=True)\n",
    "pandas_X_test['education'].replace('9th', 'Primary', inplace=True)\n",
    "pandas_X_test['education'].replace('10th', 'Primary', inplace=True)\n",
    "pandas_X_test['education'].replace('11th', 'Secondary', inplace=True)\n",
    "pandas_X_test['education'].replace('12th', 'Secondary', inplace=True)\n",
    "pandas_X_test['education'].replace('HS-grad', 'Secondary', inplace=True)\n",
    "pandas_X_test['education'].replace('Some-college', 'College', inplace=True)\n",
    "pandas_X_test['education'].replace('Assoc-acdm', 'Academic', inplace=True)\n",
    "pandas_X_test['education'].replace('Assoc-voc', 'Academic', inplace=True)\n",
    "pandas_X_test['education'].replace('Prof-school', 'Doctorate', inplace=True)\n",
    "\n",
    "X_test = pandas_X_test.to_numpy(copy=True)"
   ]
  },
  {
   "cell_type": "markdown",
   "metadata": {},
   "source": [
    "### Question 2"
   ]
  },
  {
   "cell_type": "markdown",
   "metadata": {},
   "source": [
    "###### Training set"
   ]
  },
  {
   "cell_type": "code",
   "execution_count": 56,
   "metadata": {},
   "outputs": [],
   "source": [
    "# classes:\n",
    "workclass = np.sort(pandas_X_train.workclass.unique())\n",
    "education = np.sort(pandas_X_train.education.unique())\n",
    "marital_status = np.sort(pandas_X_train[\"marital-status\"].unique())\n",
    "occupation = np.sort(pandas_X_train.occupation.unique())\n",
    "relationship = np.sort(pandas_X_train.relationship.unique())\n",
    "native_country = np.sort(pandas_X_train[\"native-country\"].unique())\n",
    "\n",
    "# Using OneHotEncoder: for all attributes except the first 3\n",
    "encoder = preprocessing.OneHotEncoder(categories=[workclass, education, marital_status, occupation, relationship, native_country], sparse=False)\n",
    "X_train_categorically_encoded = encoder.fit_transform(X_train[:, 3:])\n",
    "X_train_encoded = np.c_[X_train[:, :3], X_train_categorically_encoded]\n",
    "\n",
    "# Using get dummies\n",
    "pandas_X_train_encoded = pd.get_dummies(pandas_X_train, prefix_sep='_', drop_first=True)\n",
    "pandas_X_train_encoded_backup = copy.deepcopy(pandas_X_train_encoded)"
   ]
  },
  {
   "cell_type": "markdown",
   "metadata": {},
   "source": [
    "###### Test set"
   ]
  },
  {
   "cell_type": "code",
   "execution_count": 57,
   "metadata": {},
   "outputs": [],
   "source": [
    "# classes:\n",
    "workclass = np.sort(pandas_X_test.workclass.unique())\n",
    "education = np.sort(pandas_X_test.education.unique())\n",
    "marital_status = np.sort(pandas_X_test[\"marital-status\"].unique())\n",
    "occupation = np.sort(pandas_X_test.occupation.unique())\n",
    "relationship = np.sort(pandas_X_test.relationship.unique())\n",
    "native_country = np.sort(pandas_X_test[\"native-country\"].unique())\n",
    "\n",
    "# Using OneHotEncoder: for all attributes except the first 3\n",
    "encoder_test = preprocessing.OneHotEncoder(categories=[workclass, education, marital_status, occupation, relationship, native_country], sparse=False)\n",
    "X_test_categorically_encoded = encoder_test.fit_transform(X_test[:, 3:])\n",
    "X_test_encoded = np.c_[X_test[:, :3], X_test_categorically_encoded]\n",
    "\n",
    "# Using get dummies\n",
    "pandas_X_test_encoded = pd.get_dummies(pandas_X_test, prefix_sep='_', drop_first=True)\n",
    "pandas_X_test_encoded_backup = copy.deepcopy(pandas_X_test_encoded)"
   ]
  },
  {
   "cell_type": "markdown",
   "metadata": {},
   "source": [
    "### Question 3"
   ]
  },
  {
   "cell_type": "markdown",
   "metadata": {},
   "source": [
    "###### Training set"
   ]
  },
  {
   "cell_type": "code",
   "execution_count": 58,
   "metadata": {},
   "outputs": [],
   "source": [
    "# Normalization: first 3 attributes: age, education-num, hours-per-week\n",
    "X_train_cat_normalized = preprocessing.normalize(pandas_X_train_encoded[[\"age\", \"education-num\", \"hours-per-week\"]], norm=\"l2\")\n",
    "X_train_normalized = np.c_[X_train_cat_normalized, X_train_encoded[:, 3:]]"
   ]
  },
  {
   "cell_type": "markdown",
   "metadata": {},
   "source": [
    "###### Test set"
   ]
  },
  {
   "cell_type": "code",
   "execution_count": 59,
   "metadata": {},
   "outputs": [],
   "source": [
    "# Normalization of test set: first 3 attributes: age, education-num, hours-per-week\n",
    "X_test_cat_normalized = preprocessing.normalize(pandas_X_test_encoded[[\"age\", \"education-num\", \"hours-per-week\"]], norm=\"l2\")\n",
    "X_test_normalized = np.c_[X_test_cat_normalized, X_test_encoded[:, 3:]]"
   ]
  },
  {
   "cell_type": "markdown",
   "metadata": {},
   "source": [
    "###### Making copies of the dataset"
   ]
  },
  {
   "cell_type": "code",
   "execution_count": 60,
   "metadata": {},
   "outputs": [],
   "source": [
    "# This data will aid in testing and experimenting with the data\n",
    "X_data_norm = copy.deepcopy(X_train_normalized)\n",
    "X_data_enc = copy.deepcopy(X_train_encoded)\n",
    "X_test = copy.deepcopy(X_test_normalized)\n",
    "y_data = copy.deepcopy(y_train)"
   ]
  },
  {
   "cell_type": "markdown",
   "metadata": {},
   "source": [
    "## Experiments"
   ]
  },
  {
   "cell_type": "markdown",
   "metadata": {},
   "source": [
    "### Question 1"
   ]
  },
  {
   "cell_type": "code",
   "execution_count": 61,
   "metadata": {},
   "outputs": [],
   "source": [
    "# Kfold\n",
    "def k_fold_fit_evaluate(X, y, model, scoring_method, n_splits=2):\n",
    "    k_fold = KFold(n_splits=n_splits, random_state=42, shuffle=True)\n",
    "    scores = cross_validate(model, X, y, scoring=scoring_method, cv=k_fold, n_jobs=-1)\n",
    "    return scores[\"test_score\"]"
   ]
  },
  {
   "cell_type": "markdown",
   "metadata": {},
   "source": [
    "### Question 2"
   ]
  },
  {
   "cell_type": "code",
   "execution_count": 62,
   "metadata": {},
   "outputs": [
    {
     "name": "stdout",
     "output_type": "stream",
     "text": [
      "Number of splits for the K Folds: 10\n"
     ]
    }
   ],
   "source": [
    "random_state = 42\n",
    "n_splits = 10\n",
    "\n",
    "models = {\n",
    "    \"GaussianNB\": GaussianNB(),\n",
    "    \"DecisionTreeClassifier\": DecisionTreeClassifier(max_depth=None, min_samples_leaf=2, random_state=random_state),\n",
    "    \"KNeighborsClassifier\": KNeighborsClassifier(n_neighbors=3, weights=\"distance\"),\n",
    "    \"SVM\": SVC(C=10, kernel =\"poly\", random_state=random_state),\n",
    "    \"LogisticRegression\": LogisticRegression(C=10, penalty=\"none\", random_state=42)  \n",
    "}\n",
    "\n",
    "# The evaluation method\n",
    "scoring_method_f1 = make_scorer(lambda prediction, true_target: f1_score(true_target, prediction, average=\"weighted\"))\n",
    "\n",
    "dict_kfold = dict()\n",
    "\n",
    "for name, model in models.items():\n",
    "    kf_metrics_f1 = k_fold_fit_evaluate(X_data_norm, np.ravel(y_data), model, scoring_method_f1, n_splits=n_splits)\n",
    "    dict_kfold[name] = np.round(np.mean(kf_metrics_f1)*100, 2)\n",
    "    \n",
    "print(\"Number of splits for the K Folds:\", n_splits)"
   ]
  },
  {
   "cell_type": "code",
   "execution_count": 63,
   "metadata": {},
   "outputs": [
    {
     "data": {
      "image/png": "[encoded data removed]",
      "text/plain": [
       "<Figure size 576x432 with 1 Axes>"
      ]
     },
     "metadata": {
      "needs_background": "light"
     },
     "output_type": "display_data"
    }
   ],
   "source": [
    "bar = list(dict_kfold.values())\n",
    "r = np.arange(len(bar))\n",
    "\n",
    "fig = plt.figure(figsize=(8, 6))\n",
    "plt.bar(*zip(*dict_kfold.items()), color='mediumaquamarine')\n",
    "plt.xlabel('Model', fontweight='bold')\n",
    "plt.ylabel('F1 Accuracy', fontweight='bold')\n",
    "\n",
    "for i in range(len(bar)):\n",
    "    plt.annotate(str(bar[i]), xy=(r[i],bar[i]), ha='center', va='bottom', size=9)\n",
    "\n",
    "fig.autofmt_xdate()\n",
    "plt.tight_layout()\n",
    "plt.ylim(0, 100)\n",
    "plt.show()"
   ]
  },
  {
   "cell_type": "markdown",
   "metadata": {},
   "source": [
    "### Question 3"
   ]
  },
  {
   "cell_type": "code",
   "execution_count": 64,
   "metadata": {},
   "outputs": [
    {
     "name": "stdout",
     "output_type": "stream",
     "text": [
      "GaussianNB\n",
      "- best_score = 0.5845416036156112\n",
      "- best parameters:\n",
      "DecisionTreeClassifier\n",
      "- best_score = 0.8241348549029712\n",
      "- best parameters:\n",
      "  - max_depth 10\n",
      "  - min_samples_leaf 8\n",
      "  - random_state 42\n",
      "KNeighborsClassifier\n",
      "- best_score = 0.8311237346786431\n",
      "- best parameters:\n",
      "  - n_neighbors 10\n",
      "  - weights uniform\n",
      "SVM\n",
      "- best_score = 0.8417646433614168\n",
      "- best parameters:\n",
      "  - C 6\n",
      "  - kernel linear\n",
      "  - random_state 42\n",
      "LogisticRegression\n",
      "- best_score = 0.8425943838547456\n",
      "- best parameters:\n",
      "  - C 10\n",
      "  - max_iter 1000\n",
      "  - penalty l2\n",
      "  - random_state 42\n"
     ]
    }
   ],
   "source": [
    "model_parameters = {\n",
    "    \"GaussianNB\": {},\n",
    "    \"DecisionTreeClassifier\": {\n",
    "        'max_depth': [10, 15],\n",
    "        'random_state': [random_state],\n",
    "        'min_samples_leaf': [7, 8]\n",
    "    },\n",
    "    \"KNeighborsClassifier\": {\n",
    "        'n_neighbors': [9, 10],\n",
    "        'weights': ['uniform', 'distance']\n",
    "    },\n",
    "    \"SVM\": {\n",
    "        'C': [4, 6],\n",
    "        'kernel': ['linear'],\n",
    "        'random_state': [random_state]\n",
    "    },\n",
    "    \"LogisticRegression\": {\n",
    "        'C': [6, 8, 10],\n",
    "        'penalty': ['l2', 'l1'],\n",
    "        'random_state': [random_state],\n",
    "        'max_iter': [1000]\n",
    "    }\n",
    "}\n",
    "\n",
    "dict_models = dict()\n",
    "for model_name, parameters in model_parameters.items():\n",
    "    model = models[model_name]\n",
    "    \n",
    "    cv = StratifiedKFold(n_splits=n_splits, random_state=random_state, shuffle=True)\n",
    "    \n",
    "    grid_search = GridSearchCV(model, parameters, cv=cv.split(X_data_norm, y_data), n_jobs=-1, verbose=False, scoring=scoring_method_f1).fit(X_data_norm, np.ravel(y_data))\n",
    "\n",
    "    best_model = grid_search.best_estimator_\n",
    "    best_score = grid_search.best_score_\n",
    "    best_params = grid_search.best_params_\n",
    "    \n",
    "    dict_models[model_name] = np.round(np.mean(best_score)*100, 2)\n",
    "    \n",
    "    print(model_name)\n",
    "    print(\"- best_score =\", best_score)\n",
    "    print(\"- best parameters:\")\n",
    "    for k,v in best_params.items():\n",
    "        print(\"  -\", k, v)"
   ]
  },
  {
   "cell_type": "markdown",
   "metadata": {},
   "source": [
    "### Question 4"
   ]
  },
  {
   "cell_type": "code",
   "execution_count": 65,
   "metadata": {},
   "outputs": [
    {
     "data": {
      "image/png": "[encoded data removed]",
      "text/plain": [
       "<Figure size 720x432 with 1 Axes>"
      ]
     },
     "metadata": {
      "needs_background": "light"
     },
     "output_type": "display_data"
    }
   ],
   "source": [
    "barWidth = 0.45\n",
    "bars1 = list(dict_kfold.values())\n",
    "bars2 = list(dict_models.values())\n",
    "\n",
    "# Set position of bar on X axis\n",
    "r1 = np.arange(len(bars1))\n",
    "r2 = [x + barWidth for x in r1]\n",
    "\n",
    "fig = plt.figure(figsize=(10, 6))\n",
    "plt.bar(r1, bars1, color='mediumaquamarine', width=barWidth, edgecolor='white', label='Without Hyper-param. tuning')\n",
    "plt.bar(r2, bars2, color='skyblue', width=barWidth, edgecolor='white', label='With Hyper-param. tuning')\n",
    "\n",
    "plt.xticks([r + barWidth/2 for r in range(len(bars1))], list(model_parameters.keys()))\n",
    "plt.xlabel('Model', fontweight='bold')\n",
    "plt.ylabel('F1 Accuracy', fontweight='bold')\n",
    "\n",
    "for i in range(len(bars1)):\n",
    "    plt.annotate(str(bars1[i]), xy=(r1[i],bars1[i]), ha='center', va='bottom', size=9)\n",
    "    plt.annotate(str(bars2[i]), xy=(r2[i],bars2[i]), ha='center', va='bottom', size=9)\n",
    "\n",
    "plt.legend(bbox_to_anchor=(1.4, 1.01), loc='upper right', title='Tunning')\n",
    "fig.autofmt_xdate()\n",
    "plt.tight_layout()\n",
    "plt.ylim(0, 100)    \n",
    "plt.show()"
   ]
  },
  {
   "cell_type": "markdown",
   "metadata": {},
   "source": [
    "### Question 5"
   ]
  },
  {
   "cell_type": "code",
   "execution_count": 66,
   "metadata": {},
   "outputs": [],
   "source": [
    "classifier = LogisticRegression(C=10, penalty='l2', random_state=42, max_iter=1000).fit(X_data_norm, y_data.ravel())\n",
    "prediction = classifier.predict(X_test)\n",
    "pd.DataFrame(prediction).to_csv(\"GROUP_classes_problem_census.txt\", index=False, header=False)"
   ]
  }
 ],
 "metadata": {
  "kernelspec": {
   "display_name": "Python 3",
   "language": "python",
   "name": "python3"
  },
  "language_info": {
   "codemirror_mode": {
    "name": "ipython",
    "version": 3
   },
   "file_extension": ".py",
   "mimetype": "text/x-python",
   "name": "python",
   "nbconvert_exporter": "python",
   "pygments_lexer": "ipython3",
   "version": "3.7.6"
  }
 },
 "nbformat": 4,
 "nbformat_minor": 4
}
