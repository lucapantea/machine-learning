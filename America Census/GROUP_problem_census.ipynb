{
 "cells": [
  {
   "cell_type": "markdown",
   "metadata": {},
   "source": [
    "# American Census"
   ]
  },
  {
   "cell_type": "code",
   "execution_count": 19,
   "metadata": {},
   "outputs": [],
   "source": [
    "import numpy as np\n",
    "import pandas as pd\n",
    "import copy as copy\n",
    "import seaborn as sns; sns.set()\n",
    "\n",
    "from sklearn.naive_bayes import GaussianNB\n",
    "from sklearn.dummy import DummyClassifier\n",
    "from sklearn.tree import DecisionTreeClassifier\n",
    "from sklearn.svm import SVC\n",
    "from sklearn.neighbors import KNeighborsClassifier\n",
    "from sklearn.linear_model import LogisticRegression\n",
    "from sklearn import preprocessing\n",
    "from sklearn.preprocessing import OneHotEncoder, MinMaxScaler\n",
    "\n",
    "from sklearn.model_selection import train_test_split\n",
    "from sklearn.model_selection import KFold\n",
    "from sklearn.model_selection import StratifiedKFold\n",
    "from sklearn.model_selection import cross_validate\n",
    "from sklearn.metrics import make_scorer\n",
    "from sklearn.metrics import f1_score, roc_auc_score, accuracy_score\n",
    "from sklearn.model_selection import GridSearchCV\n",
    "from sklearn.model_selection import ShuffleSplit\n",
    "\n",
    "\n",
    "import matplotlib.pyplot as plt"
   ]
  },
  {
   "cell_type": "markdown",
   "metadata": {},
   "source": [
    "## Global config"
   ]
  },
  {
   "cell_type": "code",
   "execution_count": 20,
   "metadata": {},
   "outputs": [],
   "source": [
    "# Data config\n",
    "path_to_csv = \"adult.csv\""
   ]
  },
  {
   "cell_type": "markdown",
   "metadata": {},
   "source": [
    "## Load data"
   ]
  },
  {
   "cell_type": "code",
   "execution_count": 21,
   "metadata": {},
   "outputs": [],
   "source": [
    "pandas_X_train = pd.read_csv(\"X_train.csv\")\n",
    "pandas_y_train = pd.read_csv(\"y_train.csv\")\n",
    "\n",
    "pandas_X_test = pd.read_csv(\"X_test.csv\")"
   ]
  },
  {
   "cell_type": "markdown",
   "metadata": {},
   "source": [
    "## Helpers"
   ]
  },
  {
   "cell_type": "code",
   "execution_count": 22,
   "metadata": {},
   "outputs": [],
   "source": [
    "X_train = pandas_X_train.to_numpy(copy=True)\n",
    "y_train = pandas_y_train.to_numpy(copy=True)\n",
    "\n",
    "X_test = pandas_X_test.to_numpy(copy=True)"
   ]
  },
  {
   "cell_type": "markdown",
   "metadata": {},
   "source": [
    "## Data exploration"
   ]
  },
  {
   "cell_type": "markdown",
   "metadata": {},
   "source": [
    "### Question 1"
   ]
  },
  {
   "cell_type": "code",
   "execution_count": 23,
   "metadata": {},
   "outputs": [
    {
     "name": "stdout",
     "output_type": "stream",
     "text": [
      "[[    0     1]\n",
      " [12360  3920]]\n",
      "From above we can derive that there are an unequal number of samples belonging to each class.\n",
      "Class distribution for salary <50.000$:  75.92 %\n",
      "Class distribution for salary >50.000$:  24.08 %\n"
     ]
    }
   ],
   "source": [
    "unique_elements, counts_elements = np.unique(y_train, return_counts=True)\n",
    "unique_array = np.asarray((unique_elements, counts_elements))\n",
    "print(unique_array)\n",
    "print(\"From above we can derive that there are an unequal number of samples belonging to each class.\")\n",
    "print(\"Class distribution for salary <50.000$: \", np.round(counts_elements[0]/counts_elements.sum()*100, 2),\"%\")\n",
    "print(\"Class distribution for salary >50.000$: \", np.round(counts_elements[1]/counts_elements.sum()*100, 2),\"%\")"
   ]
  },
  {
   "cell_type": "markdown",
   "metadata": {},
   "source": [
    "### Question 2"
   ]
  },
  {
   "cell_type": "code",
   "execution_count": 24,
   "metadata": {},
   "outputs": [
    {
     "name": "stdout",
     "output_type": "stream",
     "text": [
      "Based on training data: Men >$50k:  30.51 %, Women >$50k:  11.12 %.\n",
      "\n",
      "Distribution of races:\n",
      "[(' Amer-Indian-Eskimo', 146), (' Asian-Pac-Islander', 506), (' Black', 1537), (' Other', 138), (' White', 13953)]\n",
      "\n",
      "The trained model will be highly biased towards the white race! Thus, race is also not quite a good paramter. The white race is found accross 85.71 % of the training data!\n"
     ]
    }
   ],
   "source": [
    "exteded_data = np.c_[X_train, y_train]\n",
    "\n",
    "num_men = np.where((exteded_data[:, 9] == \" Male\"))[0].size\n",
    "num_female = np.where((exteded_data[:, 9] == \" Female\"))[0].size\n",
    "females_under_50 = np.where((exteded_data[:, 9] == \" Female\") & (exteded_data[:, 11] == 0))[0].size\n",
    "females_over_50 = np.where((exteded_data[:, 9] == \" Female\") & (exteded_data[:, 11] == 1))[0].size\n",
    "men_under_50 = np.where((exteded_data[:, 9] == \" Male\") & (exteded_data[:, 11] == 0))[0].size\n",
    "men_over_50 = np.where((exteded_data[:, 9] == \" Male\") & (exteded_data[:, 11] == 1))[0].size\n",
    "\n",
    "print(\"Based on training data: Men >$50k: \", round((men_over_50/num_men) * 100, 2) , \"%, Women >$50k: \", round(females_over_50/num_female * 100, 2), \"%.\")\n",
    "print()\n",
    "print(\"Distribution of races:\")\n",
    "unique_races, counts_races = np.unique(X_train[:, 8], return_counts=True)\n",
    "zipped = zip(unique_races, counts_races)\n",
    "print(list(zipped))\n",
    "print()\n",
    "print(\"The trained model will be highly biased towards the white race! Thus, race is also not quite a good paramter. The white race is found accross\",\n",
    "     round(counts_races[4] / X_train.shape[0] * 100, 2), \"% of the training data!\")\n",
    "\n",
    "# Removal of feature is done below"
   ]
  },
  {
   "cell_type": "markdown",
   "metadata": {},
   "source": [
    "## Data preparations"
   ]
  },
  {
   "cell_type": "markdown",
   "metadata": {},
   "source": [
    "### Question 1"
   ]
  },
  {
   "cell_type": "code",
   "execution_count": 25,
   "metadata": {},
   "outputs": [
    {
     "name": "stdout",
     "output_type": "stream",
     "text": [
      "1576 rows with missing values -> Can't remove 1576 rows since it will affect the training set\n"
     ]
    }
   ],
   "source": [
    "nan_values = np.where(X_train != X_train)\n",
    "print(np.unique(nan_values).shape[0], \"rows with missing values -> Can't remove 1576 rows since it will affect the training set\") \n",
    "# Make deep copies\n",
    "pandas_X_train_copy = copy.deepcopy(pandas_X_train)\n",
    "\n",
    "# Back-ups\n",
    "X_train_backup = copy.deepcopy(X_train)\n",
    "pandas_X_train_backup = copy.deepcopy(pandas_X_train)\n",
    "\n",
    "# Extended representation of data\n",
    "extended_pandas = copy.deepcopy(pandas_X_train)\n",
    "extended_pandas['prediction'] = pandas_y_train\n",
    "\n",
    "# Replace missing numerical values with the median of the column\n",
    "# Replace missing string values with the most frequent value in the column\n",
    "pandas_X_train_copy.fillna(pandas_X_train_copy.mean(), inplace=True)\n",
    "pandas_X_train_copy.fillna(pandas_X_train_copy.mode(numeric_only=False).iloc[0], inplace=True)\n",
    "\n",
    "pandas_X_train_copy.drop([\"race\", \"sex\"], inplace=True, axis=1) # Remove race & sex from the training dataset\n",
    "X_train = pandas_X_train_copy.to_numpy(copy=True)\n",
    "\n",
    "# Update values of pandas_X_train and X_train\n",
    "pandas_X_train = copy.deepcopy(pandas_X_train_copy)\n",
    "X_train = pandas_X_train_copy.to_numpy(copy=True)"
   ]
  },
  {
   "cell_type": "markdown",
   "metadata": {},
   "source": [
    "### Questions 2 and 3"
   ]
  },
  {
   "cell_type": "code",
   "execution_count": 26,
   "metadata": {},
   "outputs": [],
   "source": [
    "# Additional preprocessing needs to be done: every non-numerical column has a space before the value <_space_*value*>\n",
    "pandas_X_train.workclass = pandas_X_train.workclass.str.strip()\n",
    "pandas_X_train.education = pandas_X_train.education.str.strip()\n",
    "pandas_X_train[\"marital-status\"] = pandas_X_train[\"marital-status\"].str.strip()\n",
    "pandas_X_train.occupation = pandas_X_train.occupation.str.strip()\n",
    "pandas_X_train.relationship = pandas_X_train.relationship.str.strip()\n",
    "pandas_X_train[\"native-country\"] = pandas_X_train[\"native-country\"].str.strip()"
   ]
  },
  {
   "cell_type": "markdown",
   "metadata": {},
   "source": [
    "#### Question 3"
   ]
  },
  {
   "cell_type": "code",
   "execution_count": 27,
   "metadata": {},
   "outputs": [],
   "source": [
    "# Replacing categories:\n",
    "# This process decreases the computational costs and prevents for potential overfitting\n",
    "\n",
    "# Keep only the 10th most popular countries among citizens\n",
    "pandas_X_train['native-country'].replace(list(pandas_X_train['native-country'].value_counts().index)[10:], \"others\", inplace=True)\n",
    "\n",
    "# Keep only not_married, married and separated\n",
    "pandas_X_train['marital-status'].replace('Never-married', 'Not_married', inplace=True)\n",
    "pandas_X_train['marital-status'].replace('Married-AF-spouse', 'Married', inplace=True)\n",
    "pandas_X_train['marital-status'].replace('Married-civ-spouse', 'Married', inplace=True)\n",
    "pandas_X_train['marital-status'].replace('Married-spouse-absent', 'Married', inplace=True)\n",
    "pandas_X_train['marital-status'].replace('Divorced', 'Separated',inplace=True)\n",
    "\n",
    "# Keep only 'High_school' 'College' 'Academic' 'Masters' 'Bachelors' 'Primary' 'Doctorate' 'Secondary'\n",
    "pandas_X_train['education'].replace('Preschool', 'Primary', inplace=True)\n",
    "pandas_X_train['education'].replace('1st-4th', 'Primary', inplace=True)\n",
    "pandas_X_train['education'].replace('5th-6th', 'Primary', inplace=True)\n",
    "pandas_X_train['education'].replace('7th-8th', 'Primary', inplace=True)\n",
    "pandas_X_train['education'].replace('9th', 'Primary', inplace=True)\n",
    "pandas_X_train['education'].replace('10th', 'Primary', inplace=True)\n",
    "pandas_X_train['education'].replace('11th', 'Secondary', inplace=True)\n",
    "pandas_X_train['education'].replace('12th', 'Secondary', inplace=True)\n",
    "pandas_X_train['education'].replace('HS-grad', 'Secondary', inplace=True)\n",
    "pandas_X_train['education'].replace('Some-college', 'College', inplace=True)\n",
    "pandas_X_train['education'].replace('Assoc-acdm', 'Academic', inplace=True)\n",
    "pandas_X_train['education'].replace('Assoc-voc', 'Academic', inplace=True)\n",
    "pandas_X_train['education'].replace('Prof-school', 'Doctorate', inplace=True)\n",
    "\n",
    "X_train = pandas_X_train.to_numpy(copy=True)"
   ]
  },
  {
   "cell_type": "markdown",
   "metadata": {},
   "source": [
    "#### Question 2"
   ]
  },
  {
   "cell_type": "code",
   "execution_count": 28,
   "metadata": {},
   "outputs": [],
   "source": [
    "# classes:\n",
    "workclass = pandas_X_train.workclass.unique()\n",
    "education = pandas_X_train.education.unique()\n",
    "marital_status = pandas_X_train[\"marital-status\"].unique()\n",
    "occupation = pandas_X_train.occupation.unique()\n",
    "relationship = pandas_X_train.relationship.unique()\n",
    "native_country = pandas_X_train[\"native-country\"].unique()\n",
    "\n",
    "# Using OneHotEncoder: for all attributes except the first 3\n",
    "encoder = preprocessing.OneHotEncoder(categories=[workclass, education, marital_status, occupation, relationship, native_country], sparse=False)\n",
    "X_train_categorically_encoded = encoder.fit_transform(X_train[:, 3:])\n",
    "X_train_encoded = np.c_[X_train[:, :3], X_train_categorically_encoded]\n",
    "\n",
    "# Using get dummies\n",
    "pandas_X_train_encoded = pd.get_dummies(pandas_X_train, prefix_sep='_', drop_first=True)\n",
    "pandas_X_train_encoded_backup = copy.deepcopy(pandas_X_train_encoded)"
   ]
  },
  {
   "cell_type": "markdown",
   "metadata": {},
   "source": [
    "#### Question 3"
   ]
  },
  {
   "cell_type": "code",
   "execution_count": 29,
   "metadata": {},
   "outputs": [],
   "source": [
    "# Question 3\n",
    "\n",
    "# Normalization: first 3 attributes: age, education-num, hours-per-week\n",
    "X_train_cat_normalized = preprocessing.normalize(pandas_X_train_encoded[[\"age\", \"education-num\", \"hours-per-week\"]], norm=\"l1\")\n",
    "X_train_normalized = np.c_[X_train_cat_normalized, X_train_encoded[:, 3:]]"
   ]
  },
  {
   "cell_type": "markdown",
   "metadata": {},
   "source": [
    "## Experiments"
   ]
  },
  {
   "cell_type": "markdown",
   "metadata": {},
   "source": [
    "### Question 1"
   ]
  },
  {
   "cell_type": "code",
   "execution_count": 30,
   "metadata": {},
   "outputs": [],
   "source": [
    "X_data_norm = copy.deepcopy(X_train_normalized)\n",
    "X_data_enc = copy.deepcopy(X_train_encoded)\n",
    "y_data = copy.deepcopy(y_train)\n",
    "\n",
    "# Kfold\n",
    "def k_fold_fit_evaluate(X, y, model, scoring_method, n_splits=2):\n",
    "    k_fold = KFold(n_splits=n_splits, random_state=42, shuffle=True)\n",
    "    scores = cross_validate(model, X, y, scoring=scoring_method, cv=k_fold, n_jobs=-1)\n",
    "    return scores[\"test_score\"]"
   ]
  },
  {
   "cell_type": "markdown",
   "metadata": {},
   "source": [
    "### Question 2"
   ]
  },
  {
   "cell_type": "code",
   "execution_count": 31,
   "metadata": {},
   "outputs": [
    {
     "name": "stdout",
     "output_type": "stream",
     "text": [
      "Number of splits for the K Folds: 10\n"
     ]
    }
   ],
   "source": [
    "random_state = 42\n",
    "\n",
    "models = {\n",
    "    \"GaussianNB\": GaussianNB(),\n",
    "    \"DecisionTreeClassifier\": DecisionTreeClassifier(max_depth=None, min_samples_leaf=2, random_state=random_state),\n",
    "    \"KNeighborsClassifier\": KNeighborsClassifier(n_neighbors=3, weights=\"distance\"),\n",
    "    \"SVM\": SVC(C=10, kernel =\"poly\", random_state=random_state),\n",
    "    \"LogisticRegression\": LogisticRegression(C=10, penalty=\"none\", random_state=42)  \n",
    "}\n",
    "\n",
    "# The evaluation method\n",
    "scoring_method_f1 = make_scorer(lambda prediction, true_target: f1_score(true_target, prediction, average=\"weighted\"))\n",
    "\n",
    "n_splits = 10\n",
    "dict_kfold = dict()\n",
    "\n",
    "for name, model in models.items():\n",
    "    kf_metrics_f1 = k_fold_fit_evaluate(X_data_norm, np.ravel(y_data), model, scoring_method_f1, n_splits=n_splits)\n",
    "    dict_kfold[name] = np.round(np.mean(kf_metrics_f1)*100, 2)\n",
    "    \n",
    "print(\"Number of splits for the K Folds:\", n_splits)"
   ]
  },
  {
   "cell_type": "code",
   "execution_count": 32,
   "metadata": {},
   "outputs": [
    {
     "data": {
      "image/png": "[encoded data removed]",
      "text/plain": [
       "<Figure size 576x432 with 1 Axes>"
      ]
     },
     "metadata": {},
     "output_type": "display_data"
    }
   ],
   "source": [
    "bar = list(dict_kfold.values())\n",
    "r = np.arange(len(bar))\n",
    "\n",
    "fig = plt.figure(figsize=(8, 6))\n",
    "plt.bar(*zip(*dict_kfold.items()), color='mediumaquamarine')\n",
    "plt.xlabel('Model', fontweight='bold')\n",
    "plt.ylabel('F1 Accuracy', fontweight='bold')\n",
    "\n",
    "for i in range(len(bar)):\n",
    "    plt.annotate(str(bar[i]), xy=(r[i],bar[i]), ha='center', va='bottom', size=9)\n",
    "\n",
    "fig.autofmt_xdate()\n",
    "plt.tight_layout()\n",
    "plt.ylim(0, 100)\n",
    "plt.show()"
   ]
  },
  {
   "cell_type": "markdown",
   "metadata": {},
   "source": [
    "### Question 3"
   ]
  },
  {
   "cell_type": "code",
   "execution_count": 33,
   "metadata": {},
   "outputs": [
    {
     "name": "stdout",
     "output_type": "stream",
     "text": [
      "GaussianNB\n",
      "- best_score = 0.5323264124274385\n",
      "  - mean f1: 53.23264124274385\n",
      "  - std f1: 0.0\n",
      "- best parameters:\n",
      "DecisionTreeClassifier\n",
      "- best_score = 0.8308459131947826\n",
      "  - mean f1: 83.08459131947826\n",
      "  - std f1: 0.0\n",
      "- best parameters:\n",
      "  - max_depth 5\n",
      "  - min_samples_leaf 8\n",
      "  - random_state 42\n",
      "KNeighborsClassifier\n",
      "- best_score = 0.832346742047864\n",
      "  - mean f1: 83.2346742047864\n",
      "  - std f1: 0.0\n",
      "- best parameters:\n",
      "  - n_neighbors 10\n",
      "  - weights uniform\n",
      "SVM\n",
      "- best_score = 0.8388768763413893\n",
      "  - mean f1: 83.88768763413893\n",
      "  - std f1: 0.0\n",
      "- best parameters:\n",
      "  - C 4\n",
      "  - kernel linear\n",
      "  - random_state 42\n",
      "LogisticRegression\n",
      "- best_score = 0.8409676436103786\n",
      "  - mean f1: 84.09676436103786\n",
      "  - std f1: 0.0\n",
      "- best parameters:\n",
      "  - C 7\n",
      "  - max_iter 1000\n",
      "  - penalty l2\n",
      "  - random_state 42\n"
     ]
    }
   ],
   "source": [
    "# Getting the model parameters\n",
    "model_parameters = {\n",
    "    \"GaussianNB\": {},\n",
    "    \"DecisionTreeClassifier\": {\n",
    "        'max_depth': [5, 10],\n",
    "        'random_state': [random_state],\n",
    "        'min_samples_leaf': [7, 8, 9]\n",
    "    },\n",
    "    \"KNeighborsClassifier\": {\n",
    "        'n_neighbors': [9, 10],\n",
    "        'weights': ['uniform', 'distance']\n",
    "    },\n",
    "    \"SVM\": {\n",
    "        'C': [4],\n",
    "        'kernel': ['rbf', 'linear'],\n",
    "        'random_state': [random_state]\n",
    "    },\n",
    "    \"LogisticRegression\": {\n",
    "        'C': [2, 4, 7],\n",
    "        'penalty': ['none', 'l1', 'l2'],\n",
    "        'random_state': [random_state],\n",
    "        'max_iter': [1000]\n",
    "    }\n",
    "}\n",
    "\n",
    "dict_models = dict()\n",
    "for model_name, parameters in model_parameters.items():\n",
    "    model = models[model_name]\n",
    "    \n",
    "    cv = KFold(n_splits=n_splits, random_state=random_state, shuffle=True)\n",
    "    grid_search = GridSearchCV(model, parameters, cv=cv, n_jobs=-1, verbose=False, scoring=scoring_method_f1).fit(X_data_norm, np.ravel(y_data))\n",
    "\n",
    "    best_model = grid_search.best_estimator_\n",
    "    best_score = grid_search.best_score_\n",
    "    best_params = grid_search.best_params_\n",
    "    \n",
    "    dict_models[model_name] = np.round(np.mean(best_score)*100, 2)\n",
    "    \n",
    "    print(model_name)\n",
    "    print(\"- best_score =\", best_score)\n",
    "    print(\"  - mean f1:\", np.mean(best_score)*100)\n",
    "    print(\"  - std f1:\", np.std(best_score)*100)\n",
    "    print(\"- best parameters:\")\n",
    "    for k,v in best_params.items():\n",
    "        print(\"  -\", k, v)"
   ]
  },
  {
   "cell_type": "markdown",
   "metadata": {},
   "source": [
    "### Question 4"
   ]
  },
  {
   "cell_type": "code",
   "execution_count": 34,
   "metadata": {},
   "outputs": [
    {
     "data": {
      "image/png": "[encoded data removed]",
      "text/plain": [
       "<Figure size 720x432 with 1 Axes>"
      ]
     },
     "metadata": {},
     "output_type": "display_data"
    }
   ],
   "source": [
    "barWidth = 0.45\n",
    "bars1 = list(dict_kfold.values())\n",
    "bars2 = list(dict_models.values())\n",
    "\n",
    "# Set position of bar on X axis\n",
    "r1 = np.arange(len(bars1))\n",
    "r2 = [x + barWidth for x in r1]\n",
    "\n",
    "fig = plt.figure(figsize=(10, 6))\n",
    "plt.bar(r1, bars1, color='mediumaquamarine', width=barWidth, edgecolor='white', label='Without Hyper-param. tuning')\n",
    "plt.bar(r2, bars2, color='skyblue', width=barWidth, edgecolor='white', label='With Hyper-param. tuning')\n",
    "\n",
    "plt.xticks([r + barWidth/2 for r in range(len(bars1))], list(model_parameters.keys()))\n",
    "plt.xlabel('Model', fontweight='bold')\n",
    "plt.ylabel('F1 Accuracy', fontweight='bold')\n",
    "\n",
    "\n",
    "for i in range(len(bars1)):\n",
    "    plt.annotate(str(bars1[i]), xy=(r1[i],bars1[i]), ha='center', va='bottom', size=9)\n",
    "    plt.annotate(str(bars2[i]), xy=(r2[i],bars2[i]), ha='center', va='bottom', size=9)\n",
    "\n",
    "plt.legend(bbox_to_anchor=(1.4, 1), loc='upper right', title='Tunning')\n",
    "fig.autofmt_xdate()\n",
    "plt.tight_layout()\n",
    "plt.ylim(0, 100)    \n",
    "plt.show()"
   ]
  },
  {
   "cell_type": "markdown",
   "metadata": {},
   "source": [
    "### Question 5"
   ]
  },
  {
   "cell_type": "code",
   "execution_count": 35,
   "metadata": {},
   "outputs": [],
   "source": [
    "prediction = np.array([-1] * len(X_test)) #TODO replace this with you own prediction\n",
    "pd.DataFrame(prediction).to_csv(\"GROUP_classes_problem_census.txt\", index=False, header=False)"
   ]
  },
  {
   "cell_type": "markdown",
   "metadata": {},
   "source": [
    "### Helpers"
   ]
  },
  {
   "cell_type": "code",
   "execution_count": 36,
   "metadata": {},
   "outputs": [],
   "source": [
    "# barWidth = 0.23\n",
    "# bars1 = np.random.randint(75,80,5)\n",
    "# bars2 = np.random.randint(75,80,5)\n",
    "# bars3 = np.random.randint(75,80,5)\n",
    "\n",
    "# # Set position of bar on X axis\n",
    "# r1 = np.arange(len(bars1))\n",
    "# r2 = [x + barWidth for x in r1]\n",
    "# r3 = [x + barWidth for x in r2]\n",
    "\n",
    "# fig = plt.figure(figsize=(10, 6))\n",
    "# plt.bar(r1, bars1, color='#7f6d5f', width=barWidth, edgecolor='white', label='simple')\n",
    "# plt.bar(r2, bars2, color='#557f2d', width=barWidth, edgecolor='white', label='kfold')\n",
    "# plt.bar(r3, bars3, color='#2d7f5e', width=barWidth, edgecolor='white', label='skfold')\n",
    "\n",
    "# plt.xticks([r + barWidth for r in range(len(bars1))],list(models.keys()))\n",
    "# plt.xlabel('Model', fontweight='bold')\n",
    "# plt.ylabel('F1 Accuracy', fontweight='bold')\n",
    "\n",
    "\n",
    "# for i in range(len(bars1)):\n",
    "#     plt.annotate(str(bars1[i]) + \".26\", xy=(r1[i],bars1[i]), ha='center', va='bottom', size=8)\n",
    "#     plt.annotate(str(bars2[i]) + \".87\", xy=(r2[i],bars2[i]), ha='center', va='bottom', size=8)\n",
    "#     plt.annotate(str(bars3[i]) + \".92\", xy=(r3[i],bars3[i]), ha='center', va='bottom', size=8)\n",
    "\n",
    "# plt.legend(bbox_to_anchor=(1.15, 1), loc='upper right', title='Split method')\n",
    "# fig.autofmt_xdate()\n",
    "# plt.tight_layout()\n",
    "# plt.ylim(0, 100)    \n",
    "# plt.show()\n",
    "\n",
    "#############################################\n",
    "\n",
    "# temp = {'Luca': 88.2, 'Andrei': 83.57, 'Apollo': 88.32, 'Gauss': 87.59, 'Pareto': 80.20}\n",
    "# bar = list(temp.values())\n",
    "# r = np.arange(len(bar))\n",
    "# fig = plt.figure(figsize=(8, 6))\n",
    "# plt.bar(*zip(*temp.items()), color='mediumaquamarine')\n",
    "\n",
    "# for i in range(len(temp.values())):\n",
    "#     plt.annotate(str(bar[i]), xy=(r[i],bar[i]), ha='center', va='bottom', size=8)\n",
    "\n",
    "# fig.autofmt_xdate()\n",
    "# plt.tight_layout()\n",
    "# plt.ylim(0, 100)\n",
    "# plt.show()\n",
    "\n",
    "############################################\n",
    "\n",
    "# fig, (ax1, ax2, ax3, ax4) = plt.subplots(1, 4, figsize=(13,5), tight_layout=True)\n",
    "# ax1.hist(exteded_data[:, 8], np.arange(0, 4 + 1.5) - 0.5, color=\"skyblue\", density=True)\n",
    "# ax3.hist(exteded_data[:, 9], np.arange(0, 3) - 0.5, color=\"mediumaquamarine\", density=True)\n",
    "# sns.barplot(x=exteded_data[:, 8], y=exteded_data[:, 11], ax=ax2, palette='deep')\n",
    "# sns.barplot(x=exteded_data[:, 9], y=exteded_data[:, 11], ax=ax4, palette='deep')\n",
    "# fig.autofmt_xdate()\n",
    "# plt.show()\n",
    "\n",
    "# print(\"Plot 1 - distribution of races; Plot 2 - Probability of income > $50k for races; Plot 3 - distribution of gender;  Plot 4 - Probability of income > $50k for genders\")\n",
    "\n",
    "\n",
    "\n",
    "##########################################\n",
    "# Plotting non-numerical\n",
    "# fig, axarr = plt.subplots(2, 3, figsize=(12, 8), tight_layout=True)\n",
    "# pandas_X_train_backup['workclass'].value_counts().head(10).plot.bar(ax=axarr[0][0])\n",
    "# pandas_X_train_backup['education'].value_counts().head(10).plot.bar(ax=axarr[0][1])\n",
    "# pandas_X_train_backup['marital-status'].value_counts().head(10).plot.bar(ax=axarr[0][2])\n",
    "# pandas_X_train_backup['occupation'].value_counts().head(10).plot.bar(ax=axarr[1][0])\n",
    "# pandas_X_train_backup['relationship'].value_counts().head(10).plot.bar(ax=axarr[1][1])\n",
    "# pandas_X_train_backup['native-country'].value_counts().head(10).plot.bar(ax=axarr[1][2])\n",
    "\n",
    "# axarr[0][0].set_title(\"Work class\", fontsize=15)\n",
    "# axarr[0][1].set_title(\"Education\", fontsize=15)\n",
    "# axarr[0][2].set_title(\"Marital status\", fontsize=15)\n",
    "# axarr[1][0].set_title(\"Occupation\", fontsize=15)\n",
    "# axarr[1][1].set_title(\"Relationship\", fontsize=15)\n",
    "# axarr[1][2].set_title(\"Native country\", fontsize=15)\n",
    "# plt.show()\n",
    "\n",
    "\n",
    "##########################################\n",
    "\n",
    "\n",
    "# Plotting numerical\n",
    "# fig1, (ax1, ax2, ax3) = plt.subplots(1, 3, figsize=(12, 4), tight_layout=True)\n",
    "# sns.distplot(extended_pandas[\"age\"], hist=True, kde=True, \n",
    "#              bins=10, color = 'skyblue', \n",
    "#              hist_kws={'edgecolor':'black'},\n",
    "#              kde_kws={'linewidth': 2},\n",
    "#              ax = ax1)\n",
    "\n",
    "# sns.distplot(pandas_X_train_backup[\"education-num\"], hist=True, kde=True, \n",
    "#              bins=10, color = 'mediumaquamarine', \n",
    "#              hist_kws={'edgecolor':'black'},\n",
    "#              kde_kws={'linewidth': 2},\n",
    "#              ax = ax2)\n",
    "\n",
    "# sns.distplot(pandas_X_train_backup[\"hours-per-week\"], hist=True, kde=True, \n",
    "#              bins=15, color = 'olive', \n",
    "#              hist_kws={'edgecolor':'black'},\n",
    "#              kde_kws={'linewidth': 2},\n",
    "#              ax = ax3)\n",
    "\n",
    "# ax1.set_title(\"Age dist.\")\n",
    "# ax2.set_title(\"Edu. time dist.\")\n",
    "# ax3.set_title(\"Work hours dist.\")\n",
    "# plt.show()\n",
    "\n",
    "\n",
    "########################################\n",
    "# barWidth = 0.23\n",
    "# bars1 = list(dict_simple.values())\n",
    "# bars2 = list(dict_kfold.values())\n",
    "# bars3 = list(dict_skfold.values())\n",
    "\n",
    "# r1 = np.arange(len(bars1))\n",
    "# r2 = [x + barWidth for x in r1]\n",
    "# r3 = [x + barWidth for x in r2]\n",
    "\n",
    "# fig = plt.figure(figsize=(10, 8))\n",
    "# plt.bar(r1, bars1, color='#7f6d5f', width=barWidth, edgecolor='white', label='Simple split')\n",
    "# plt.bar(r2, bars2, color='#557f2d', width=barWidth, edgecolor='white', label='Kfold split')\n",
    "# plt.bar(r3, bars3, color='#2d7f5e', width=barWidth, edgecolor='white', label='Stratified Kfold')\n",
    "\n",
    "# plt.xticks([r + barWidth for r in range(len(bars1))], list(models.keys()))\n",
    "# plt.xlabel('Model', fontweight='bold')\n",
    "# plt.ylabel('F1 Accuracy', fontweight='bold')\n",
    "\n",
    "# for i in range(len(bars1)):\n",
    "#     plt.annotate(str(bars1[i]), xy=(r1[i],bars1[i]), ha='center', va='bottom', size=9)\n",
    "#     plt.annotate(str(bars2[i]), xy=(r2[i],bars2[i]), ha='center', va='bottom', size=9)\n",
    "#     plt.annotate(str(bars3[i]), xy=(r3[i],bars3[i]), ha='center', va='bottom', size=9)\n",
    "\n",
    "# plt.legend(bbox_to_anchor=(1.15, 1), loc='upper right', title='Split method')\n",
    "# fig.autofmt_xdate()\n",
    "# plt.tight_layout()\n",
    "# plt.ylim(0, 100)    \n",
    "# plt.show()\n",
    "\n",
    "\n",
    "\n",
    "######################################\n",
    "\n",
    "# from sklearn import svm\n",
    "# from sklearn.linear_model import LogisticRegression\n",
    "\n",
    "# n_splits = 10\n",
    "\n",
    "# scoring_method_f1 = make_scorer(lambda prediction, true_target: f1_score(true_target, prediction, average=\"weighted\"))\n",
    "\n",
    "\n",
    "# def f_importances(coef, names):\n",
    "#     imp = coef\n",
    "#     imp,names = zip(*sorted(zip(imp,names)))\n",
    "#     plt.barh(range(len(names[70:])), imp[70:], align='center')\n",
    "#     plt.yticks(range(len(names[70:])), names[70:])\n",
    "#     plt.show()\n",
    "\n",
    "# # features_names = list(pandas_X_train_encoded.columns)\n",
    "# # svm = SVC(kernel='linear', random_state=42, C=7)\n",
    "# # svm.fit(X_train_new, y_train_new)\n",
    "# # f_importances(svm.coef_.ravel()[:88], features_names)\n",
    "\n",
    "# # svm_kf_metrics_f1 = k_fold_fit_evaluate(X_data_norm, np.ravel(y_data), svm, scoring_method_f1, n_splits=n_splits) \n",
    "# # print(\"F1 accuracy of SVM:\",np.round(np.mean(svm_kf_metrics_f1)*100, 2))\n",
    "\n",
    "# features_names = list(pandas_X_train_encoded.columns)\n",
    "# logistic = LogisticRegression(C=4, random_state=42, max_iter=1000)\n",
    "# logistic.fit(X_train_new, y_train_new)\n",
    "# f_importances(logistic.coef_.ravel()[:88], features_names)\n",
    "\n",
    "# log_kf_metrics_f1 = k_fold_fit_evaluate(X_data_norm, np.ravel(y_data), logistic, scoring_method_f1, n_splits=n_splits) \n",
    "# print(\"F1 accuracy of logistic regression:\",np.round(np.mean(log_kf_metrics_f1)*100, 2))\n",
    "\n",
    "\n",
    "########################################\n",
    "\n",
    "# # using train_test_split\n",
    "# X_train_new, X_test_new, y_train_new, y_test_new = train_test_split(X_data_norm, y_data, test_size=0.25, random_state=42, shuffle=True, stratify=np.ravel(y_data))\n",
    "# y_train_new = y_train_new.reshape(len(y_train_new),)\n",
    "# y_test_new = y_test_new.reshape(len(y_test_new),)\n",
    "\n",
    "\n",
    "# # using stratified kfold\n",
    "# def sk_fold_fit_evaluate(X, y, model, scoring_method, n_splits=2):\n",
    "#     sk_fold = StratifiedKFold(n_splits=n_splits, random_state=42, shuffle=True)\n",
    "#     scores = cross_validate(model, X, y, scoring=scoring_method, cv=sk_fold, n_jobs=-1)\n",
    "#     return scores[\"test_score\"]\n",
    "\n",
    "\n",
    "#######################################\n",
    "# The evaluation method\n",
    "# scoring_method_f1 = make_scorer(lambda prediction, true_target: f1_score(true_target, prediction, average=\"weighted\"))\n",
    "\n",
    "# n_splits = 10\n",
    "# dict_simple = dict()\n",
    "# dict_kfold = dict()\n",
    "# dict_skfold = dict()\n",
    "\n",
    "# for name, model in models.items():\n",
    "#     # simple model fitting\n",
    "#     model.fit(X_train_new, y_train_new)\n",
    "#     prediction = model.predict(X_test_new)\n",
    "#     simple_metrics_f1 = f1_score(prediction, y_test_new, average=\"weighted\")\n",
    "    \n",
    "#     # kfold\n",
    "#     kf_metrics_f1 = k_fold_fit_evaluate(X_data_norm, np.ravel(y_data), model, scoring_method_f1, n_splits=n_splits) \n",
    "\n",
    "#     # stratified kfold\n",
    "#     skf_metrics_f1 = sk_fold_fit_evaluate(X_data_norm, np.ravel(y_data), model, scoring_method_f1, n_splits=n_splits) \n",
    "\n",
    "#     # gather performance data\n",
    "#     dict_simple[name] = np.round(np.mean(simple_metrics_f1)*100, 2)\n",
    "#     dict_kfold[name] = np.round(np.mean(kf_metrics_f1)*100, 2)\n",
    "#     dict_skfold[name] = np.round(np.mean(skf_metrics_f1)*100, 2)\n",
    "    \n",
    "    \n",
    "# print(\"Number of splits for the K Folds:\", n_splits)\n",
    "\n",
    "\n",
    "####################################\n",
    "# print(\"F1 accuracy of model, done with kfold, after hyper-parameter tuning with the current given parameters.\")\n",
    "\n",
    "# for model_name, parameters in model_parameters.items():\n",
    "#     model = models[model_name]\n",
    "    \n",
    "#     cv = KFold(n_splits=n_splits, random_state=random_state, shuffle=True)\n",
    "#     grid_search = GridSearchCV(model, parameters, cv=cv, n_jobs=-1, verbose=False, scoring=scoring_method_f1).fit(X_data_norm, np.ravel(y_data))\n",
    "\n",
    "#     best_model = grid_search.best_estimator_\n",
    "#     best_score = grid_search.best_score_\n",
    "#     best_params = grid_search.best_params_\n",
    "    \n",
    "#     dict_models[model_name] = np.round(np.mean(best_score)*100, 2)\n",
    "    \n",
    "#     print(model_name)\n",
    "#     print(\"- best_score =\", best_score)\n",
    "#     print(\"- best parameters:\")\n",
    "#     for k,v in best_params.items():\n",
    "#         print(\"  -\", k, v)\n",
    "\n",
    "# bar = list(dict_models.values())\n",
    "# r = np.arange(len(bar))\n",
    "\n",
    "# fig = plt.figure(figsize=(8, 6))\n",
    "# plt.bar(*zip(*dict_models.items()), color='mediumaquamarine')\n",
    "# plt.xlabel('Model', fontweight='bold')\n",
    "# plt.ylabel('F1 Accuracy', fontweight='bold')\n",
    "\n",
    "# for i in range(len(bar)):\n",
    "#     plt.annotate(str(bar[i]), xy=(r[i],bar[i]), ha='center', va='bottom', size=9)\n",
    "\n",
    "# fig.autofmt_xdate()\n",
    "# plt.tight_layout()\n",
    "# plt.ylim(0, 100)\n",
    "# plt.show()"
   ]
  },
  {
   "cell_type": "code",
   "execution_count": null,
   "metadata": {},
   "outputs": [],
   "source": []
  }
 ],
 "metadata": {
  "kernelspec": {
   "display_name": "Python 3",
   "language": "python",
   "name": "python3"
  }
 },
 "nbformat": 4,
 "nbformat_minor": 4
}
